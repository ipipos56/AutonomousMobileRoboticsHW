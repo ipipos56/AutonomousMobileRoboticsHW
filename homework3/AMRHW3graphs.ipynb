{
  "nbformat": 4,
  "nbformat_minor": 0,
  "metadata": {
    "colab": {
      "provenance": []
    },
    "kernelspec": {
      "name": "python3",
      "display_name": "Python 3"
    },
    "language_info": {
      "name": "python"
    }
  },
  "cells": [
    {
      "cell_type": "code",
      "source": [
        "# GitHubLink \n",
        "# https://github.com/ipipos56/AutonomousMobileRoboticsHW\n",
        "\n",
        "import matplotlib.pyplot as plt\n",
        "import numpy as np\n",
        "import sympy\n",
        "from sympy import symbols, integrate\n",
        "import json\n",
        "\n",
        "\n",
        "info_pure_pursuit = json.load(open('info_pp.json'))\n",
        "info_stanley = json.load(open('info_st.json'))\n",
        "\n",
        "all_q_pp = np.array([info_pure_pursuit['all_q']]).squeeze()\n",
        "all_q_st = np.array([info_stanley['all_q']]).squeeze()\n",
        "# all_q_st = all_q_st[:len(all_q_pp)]\n",
        "control_points=np.array([[3,0], [6,4], [3,4], [3,1], [0,3]])\n",
        "\n",
        "\n",
        "# green - ROS Odometry Pure Pursuit, red - ROS Odometry Stanley, blue - input points\n",
        "fig = plt.figure()\n",
        "ax = fig.add_subplot(111)\n",
        "# ax.plot(all_q_pp[:, 0], all_q_pp[:, 1], color='green')\n",
        "ax.plot(all_q_st[:, 0], all_q_st[:, 1], color='red')\n",
        "# ax.plot(control_points[:, 0], control_points[:, 1], color='blue')\n",
        "ax.set_xlabel('x')\n",
        "ax.set_ylabel('y')\n",
        "plt.savefig(\"plot.png\")\n",
        "plt.show()\n",
        "\n",
        "\n"
      ],
      "metadata": {
        "id": "vv27pg_Wsivz",
        "colab": {
          "base_uri": "https://localhost:8080/",
          "height": 279
        },
        "outputId": "8b331d5a-8614-43bd-c96f-fc03dc667845"
      },
      "execution_count": 4,
      "outputs": [
        {
          "output_type": "display_data",
          "data": {
            "text/plain": [
              "<Figure size 432x288 with 1 Axes>"
            ],
            "image/png": "[encoded data removed]"
          },
          "metadata": {
            "needs_background": "light"
          }
        }
      ]
    }
  ]
}